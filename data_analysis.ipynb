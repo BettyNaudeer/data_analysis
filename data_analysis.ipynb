{
 "cells": [
  {
   "cell_type": "markdown",
   "metadata": {},
   "source": [
    "Create a service that reads the raw gzip files from the input directory.\n",
    "\n",
    "The service should:\n",
    "- Load the files\n",
    "- Parse the data\n",
    "- Convert IP address to country, city\n",
    "- Parse user agent string and detect:\n",
    "    - browser family\n",
    "    - os family\n",
    "\n",
    "The service should print to standard out:\n",
    "- Top 5 Countries based on number of events\n",
    "- Top 5 Cities based on number of events\n",
    "- Top 5 Browsers based on number of unique users\n",
    "- Top 5 Operating systems based on number of unique users\n",
    "\n",
    "\n",
    "\n",
    "Note: The raw files will be provided by us and will be compressed using gzip and are tab separated (“tsv”)\n",
    "field header (date, time, user_id, url, IP, user_agent_string)\n",
    "url is hashed and has the structure of: “http://hashed_domain/hashed_path”\n",
    "\n",
    "\n",
    "You can use any module or your own algorithms to perform processing such as:\n",
    "to derive geographical data\n",
    "to parse the user agent string\n",
    "to connect to databases\n",
    "\n"
   ]
  },
  {
   "cell_type": "code",
   "execution_count": 1,
   "metadata": {},
   "outputs": [],
   "source": [
    "import pandas as pd\n",
    "import numpy as np\n",
    "import geoip2.database\n",
    "from geoip2.errors import AddressNotFoundError\n",
    "from user_agents import parse"
   ]
  },
  {
   "cell_type": "code",
   "execution_count": 2,
   "metadata": {},
   "outputs": [],
   "source": [
    "#Load the files\n",
    "\n",
    "df = pd.read_table('input_data', header=None)\n",
    "df.columns = [\"date\", \"time\", \"user_id\", \"url\", \"IP\", \"user_agent_string\"]"
   ]
  },
  {
   "cell_type": "code",
   "execution_count": null,
   "metadata": {},
   "outputs": [],
   "source": [
    "unduplicated_df = df.drop_duplicates()"
   ]
  },
  {
   "cell_type": "markdown",
   "metadata": {},
   "source": [
    "### Top 5 Countries based on number of events\n",
    "### Top 5 Cities based on number of events"
   ]
  },
  {
   "cell_type": "code",
   "execution_count": null,
   "metadata": {},
   "outputs": [],
   "source": [
    "\n",
    "reader = geoip2.database.Reader('./GeoLite2-City_20180403/GeoLite2-City.mmdb')\n",
    "\n",
    "ip_facts = []\n",
    "\n",
    "for IP in unduplicated_df['IP']:\n",
    "    try:\n",
    "        first_ip = IP.split(', ', 1)[0]\n",
    "        response = reader.city(first_ip)\n",
    "        country = response.country.name\n",
    "        city = response.city.name\n",
    "    \n",
    "    except AddressNotFoundError:\n",
    "        pass\n",
    "        \n",
    "    except:\n",
    "        pass\n",
    "        \n",
    "    ip_facts.append([country, city])\n",
    "    \n",
    "reader.close()\n",
    "\n",
    "ip_facts_np = pd.DataFrame(ip_facts, columns= ['Country','City'])\n",
    "\n",
    "ip_facts_np.dropna()\n",
    "\n",
    "### Top 5 Countries based on number of events\n",
    "print(ip_facts_np.Country.value_counts().nlargest(5))\n",
    "\n",
    "\n",
    "### Top 5 Cities based on number of events\n",
    "print(ip_facts_np.City.value_counts().nlargest(5))"
   ]
  },
  {
   "cell_type": "code",
   "execution_count": null,
   "metadata": {},
   "outputs": [],
   "source": []
  },
  {
   "cell_type": "code",
   "execution_count": null,
   "metadata": {},
   "outputs": [],
   "source": [
    "unduplicated_df.head()"
   ]
  },
  {
   "cell_type": "markdown",
   "metadata": {},
   "source": [
    "### Top 5 Browsers based on number of unique users"
   ]
  },
  {
   "cell_type": "code",
   "execution_count": null,
   "metadata": {},
   "outputs": [],
   "source": [
    "user_details = []\n",
    "\n",
    "for x in unduplicated_df['user_agent_string']:\n",
    "    first_try = x.split(' ')[-1]\n",
    "    result = first_try.split('/')[0]\n",
    "    user_details.append([result])\n",
    "\n",
    "user_agent_facts_np = pd.DataFrame(user_details, columns = ['Browser'])\n",
    "\n",
    "print(user_agent_facts_np.Browser.value_counts().nlargest(5))\n"
   ]
  },
  {
   "cell_type": "markdown",
   "metadata": {},
   "source": [
    "### Top 5 Operating systems based on number of unique users"
   ]
  },
  {
   "cell_type": "code",
   "execution_count": null,
   "metadata": {},
   "outputs": [],
   "source": [
    "user_details = []\n",
    "\n",
    "for x in unduplicated_df['user_agent_string']:\n",
    "    user_details.append([x])\n",
    "\n",
    "    \n",
    "user_OS_pd = pd.DataFrame(user_details, columns = ['Details'])\n",
    "\n",
    "user_agents = []\n",
    "\n",
    "for x in user_OS_pd['Details']:\n",
    "    ua_string = x\n",
    "    user_agent = parse(ua_string)\n",
    "    os = user_agent.os.family\n",
    "    user_agents.append([os])\n",
    "\n",
    "OS_pd = pd.DataFrame(user_agents, columns = ['OS'])\n",
    "\n",
    "print(OS_pd.OS.value_counts().nlargest(5))\n"
   ]
  }
 ],
 "metadata": {
  "kernelspec": {
   "display_name": "Python 3",
   "language": "python",
   "name": "python3"
  },
  "language_info": {
   "codemirror_mode": {
    "name": "ipython",
    "version": 3
   },
   "file_extension": ".py",
   "mimetype": "text/x-python",
   "name": "python",
   "nbconvert_exporter": "python",
   "pygments_lexer": "ipython3",
   "version": "3.6.4"
  }
 },
 "nbformat": 4,
 "nbformat_minor": 2
}
